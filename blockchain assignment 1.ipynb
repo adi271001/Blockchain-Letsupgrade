{
 "cells": [
  {
   "cell_type": "markdown",
   "metadata": {},
   "source": [
    "# Question 1  What is your understanding of blockchain?\n",
    "\n",
    " It’s a technology that came into existence after the 2008 crisis. That time the world felt that we require a peer to peer transaction technology. The blocks save the data in them, and for each data, a hash is created. And that hash is linked to the very next block. If we tried to change the data in 1st block the hash will be changed and it won’t be the same as the next block. It provides security to the data.\n"
   ]
  },
  {
   "cell_type": "markdown",
   "metadata": {},
   "source": [
    "# Question 2 What is the main problem blockchain tried to solve?\n",
    " After the 2008 crisis, it came into existence. The feature which the internet fails to provide like security and authenticity is provided by a blockchain.\n"
   ]
  },
  {
   "cell_type": "markdown",
   "metadata": {},
   "source": [
    "# Question 3 features of blockchain\n",
    " Verifiable\n",
    " Unchangeable\n",
    " Tamper – proof\n",
    " Immutable"
   ]
  },
  {
   "cell_type": "markdown",
   "metadata": {},
   "source": [
    "# Question 4 What all things a block contains?\n",
    " Block number\n",
    " Transaction records\n",
    " Previous block signature\n",
    " Mining key (Nonce)"
   ]
  },
  {
   "cell_type": "markdown",
   "metadata": {},
   "source": [
    "# Question 5 How the verifiability of the blockchain has been attained?\n",
    " Each and every person involved in the group will check the hash provided. If the hash of all the participants is the same, then the data is similar to one another. But if the hash of one of the participants is different, then we can cross-check what was the difference of the data which was leading to a different hash"
   ]
  }
 ],
 "metadata": {
  "kernelspec": {
   "display_name": "Python 3",
   "language": "python",
   "name": "python3"
  },
  "language_info": {
   "codemirror_mode": {
    "name": "ipython",
    "version": 3
   },
   "file_extension": ".py",
   "mimetype": "text/x-python",
   "name": "python",
   "nbconvert_exporter": "python",
   "pygments_lexer": "ipython3",
   "version": "3.7.3"
  }
 },
 "nbformat": 4,
 "nbformat_minor": 2
}
